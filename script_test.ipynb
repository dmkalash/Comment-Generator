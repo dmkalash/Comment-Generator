{
  "nbformat": 4,
  "nbformat_minor": 0,
  "metadata": {
    "colab": {
      "name": "script_test.ipynb",
      "provenance": [],
      "collapsed_sections": []
    },
    "kernelspec": {
      "name": "python3",
      "display_name": "Python 3"
    },
    "language_info": {
      "name": "python"
    },
    "accelerator": "GPU"
  },
  "cells": [
    {
      "cell_type": "markdown",
      "metadata": {
        "id": "gGawu1KAqC3S"
      },
      "source": [
        "# Тестирование модели на gpu"
      ]
    },
    {
      "cell_type": "markdown",
      "metadata": {
        "id": "KvkYbVYvsrX0"
      },
      "source": [
        "HINT:\n",
        "- Fill own CPPATH\n",
        "- Load locally:\n",
        "    - input.txt with posts content(one prepared post for line)\n",
        "    - req.sh with requirements\n",
        "    - run.py - run script\n",
        "\n",
        "Checkpoint: https://drive.google.com/file/d/1VwlOLrRCX9LuIiy_d45MMKLf0a_AJRW_/view?usp=sharing"
      ]
    },
    {
      "cell_type": "code",
      "metadata": {
        "colab": {
          "base_uri": "https://localhost:8080/"
        },
        "id": "DiTNN_SO06ta",
        "outputId": "e72b6bbf-3e3c-41ee-d39c-7ac94d795783"
      },
      "source": [
        "from google.colab import drive\n",
        "drive.mount('/content/drive')"
      ],
      "execution_count": 1,
      "outputs": [
        {
          "output_type": "stream",
          "text": [
            "Mounted at /content/drive\n"
          ],
          "name": "stdout"
        }
      ]
    },
    {
      "cell_type": "code",
      "metadata": {
        "id": "rQ18IkFy1NYQ"
      },
      "source": [
        "!chmod +x req.sh\n",
        "!./req.sh"
      ],
      "execution_count": 14,
      "outputs": []
    },
    {
      "cell_type": "code",
      "metadata": {
        "id": "OBSysc3psxWr"
      },
      "source": [
        "CPPATH = 'drive/MyDrive/Colab Notebooks/neuro_data/cp/checkpoint_15.ph'"
      ],
      "execution_count": null,
      "outputs": []
    },
    {
      "cell_type": "code",
      "metadata": {
        "id": "v7F9hVBP1V9X",
        "colab": {
          "base_uri": "https://localhost:8080/"
        },
        "outputId": "001e6a10-06dd-4ccb-858c-6511636306fd"
      },
      "source": [
        "!chmod +x run.py\n",
        "!./run.py --cppath='drive/MyDrive/Colab Notebooks/neuro_data/cp/checkpoint_12.ph' --file='input.txt' --device='cuda:0'"
      ],
      "execution_count": 19,
      "outputs": [
        {
          "output_type": "stream",
          "text": [
            "2021-05-26 12:46:13.909178: I tensorflow/stream_executor/platform/default/dso_loader.cc:53] Successfully opened dynamic library libcudart.so.11.0\n",
            "loading tokenizer...\n",
            "Special tokens have been added in the vocabulary, make sure the associated word embeddings are fine-tuned or trained.\n",
            "loading model...\n",
            "Prediction:\n",
            "> P: Путин встретился с Лукашенко в Минске. Тот рассказал много всего интересного.\n",
            "\n",
            "\n",
            "> C: - Лукашенко, ты не знаешь, где он сейчас?\n",
            "\n",
            "> P: Художник из Питера дал интервью Дудю.\n",
            "\n",
            "\n",
            "> C: - он не бог, он - человек.\n",
            "\n",
            "> P: Сегодня первый день лета. Поздравляем!\n",
            "\n",
            "\n",
            "> C: владимир владимирович.\n",
            "\n"
          ],
          "name": "stdout"
        }
      ]
    },
    {
      "cell_type": "code",
      "metadata": {
        "id": "BeFbuVjJtgfx"
      },
      "source": [
        ""
      ],
      "execution_count": null,
      "outputs": []
    }
  ]
}